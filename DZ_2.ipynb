{
 "cells": [
  {
   "cell_type": "code",
   "execution_count": 1,
   "id": "4efb9d65",
   "metadata": {},
   "outputs": [],
   "source": [
    "word = 'test'"
   ]
  },
  {
   "cell_type": "code",
   "execution_count": 8,
   "id": "fa0065fc",
   "metadata": {},
   "outputs": [
    {
     "data": {
      "text/plain": [
       "'es'"
      ]
     },
     "execution_count": 8,
     "metadata": {},
     "output_type": "execute_result"
    }
   ],
   "source": [
    "word[1:3]"
   ]
  },
  {
   "cell_type": "code",
   "execution_count": 7,
   "id": "6f825daa",
   "metadata": {},
   "outputs": [],
   "source": [
    "word_two = 'testing'"
   ]
  },
  {
   "cell_type": "code",
   "execution_count": 9,
   "id": "f6c2927f",
   "metadata": {},
   "outputs": [
    {
     "data": {
      "text/plain": [
       "'t'"
      ]
     },
     "execution_count": 9,
     "metadata": {},
     "output_type": "execute_result"
    }
   ],
   "source": [
    "word_two[-4]"
   ]
  },
  {
   "cell_type": "code",
   "execution_count": 10,
   "id": "91c0c693",
   "metadata": {},
   "outputs": [
    {
     "name": "stdout",
     "output_type": "stream",
     "text": [
      "Введите число:1\n",
      "Введите число:7\n",
      "Введите число:2\n",
      "Введите число:0\n",
      "10\n"
     ]
    }
   ],
   "source": [
    "n = int(input(\"Введите число:\"))\n",
    "sum = 0\n",
    "while n != 0:\n",
    "    sum += n\n",
    "    n = int(input(\"Введите число:\"))\n",
    "    \n",
    "print(sum)"
   ]
  },
  {
   "cell_type": "code",
   "execution_count": 22,
   "id": "d0aa25fc",
   "metadata": {},
   "outputs": [],
   "source": [
    "boys = ['Peter', 'Alex', 'John', 'Arthur', 'Richard']\n",
    "girls = ['Kate', 'Liza', 'Kira', 'Emma', 'Trisha']"
   ]
  },
  {
   "cell_type": "code",
   "execution_count": 15,
   "id": "34a2f66b",
   "metadata": {},
   "outputs": [
    {
     "data": {
      "text/plain": [
       "['Emma', 'Kate', 'Kira', 'Liza', 'Trisha']"
      ]
     },
     "execution_count": 15,
     "metadata": {},
     "output_type": "execute_result"
    }
   ],
   "source": [
    "sorted(girls)"
   ]
  },
  {
   "cell_type": "code",
   "execution_count": 16,
   "id": "03344ec2",
   "metadata": {},
   "outputs": [
    {
     "data": {
      "text/plain": [
       "['Alex', 'Arthur', 'John', 'Peter', 'Richard']"
      ]
     },
     "execution_count": 16,
     "metadata": {},
     "output_type": "execute_result"
    }
   ],
   "source": [
    "sorted(boys)"
   ]
  },
  {
   "cell_type": "code",
   "execution_count": 29,
   "id": "16ac8fab",
   "metadata": {},
   "outputs": [
    {
     "name": "stdout",
     "output_type": "stream",
     "text": [
      "<zip object at 0x00000231C2AF4D00>\n"
     ]
    }
   ],
   "source": [
    "boys_girls = zip(sorted(boys), sorted(girls))\n",
    "print(boys_girls)"
   ]
  },
  {
   "cell_type": "code",
   "execution_count": 30,
   "id": "e16eb28b",
   "metadata": {},
   "outputs": [
    {
     "data": {
      "text/plain": [
       "[('Alex', 'Emma'),\n",
       " ('Arthur', 'Kate'),\n",
       " ('John', 'Kira'),\n",
       " ('Peter', 'Liza'),\n",
       " ('Richard', 'Trisha')]"
      ]
     },
     "execution_count": 30,
     "metadata": {},
     "output_type": "execute_result"
    }
   ],
   "source": [
    "list(boys_girls)"
   ]
  },
  {
   "cell_type": "code",
   "execution_count": 1,
   "id": "000534fc",
   "metadata": {},
   "outputs": [],
   "source": [
    "boys_two = ['Peter', 'Alex', 'John', 'Arthur', 'Richard', 'Michael']\n",
    "girls_two = ['Kate', 'Liza', 'Kira', 'Emma', 'Trisha']"
   ]
  },
  {
   "cell_type": "code",
   "execution_count": 2,
   "id": "8aad2377",
   "metadata": {},
   "outputs": [
    {
     "name": "stdout",
     "output_type": "stream",
     "text": [
      "Внимание, кто-то может остаться без пары!\n"
     ]
    }
   ],
   "source": [
    "boys_two_girls_two = zip(sorted(boys_two), sorted(girls_two))\n",
    "if len(boys_two) == len(girls_two):\n",
    "    print(boys_two_girls_two)\n",
    "else:\n",
    "    print('Внимание, кто-то может остаться без пары!')"
   ]
  },
  {
   "cell_type": "code",
   "execution_count": 3,
   "id": "e1ddb540",
   "metadata": {},
   "outputs": [],
   "source": [
    "countries_temperature = [\n",
    "['Thailand', [75.2, 77, 78.8, 73.4, 68, 75.2, 77]],\n",
    "['Germany', [57.2, 55.4, 59, 59, 53.6]],\n",
    "['Russia', [35.6, 37.4, 39.2, 41, 42.8, 39.2, 35.6]],\n",
    "['Poland', [50, 50, 53.6, 57.2, 55.4, 55.4]]\n",
    "]"
   ]
  },
  {
   "cell_type": "code",
   "execution_count": 21,
   "id": "ba8df992",
   "metadata": {},
   "outputs": [
    {
     "name": "stdout",
     "output_type": "stream",
     "text": [
      "Результат:\n",
      "Средняя температура в странах:\n",
      "Thailand - 23.9 C\n",
      "Результат:\n",
      "Средняя температура в странах:\n",
      "Germany - 13.8 C\n",
      "Результат:\n",
      "Средняя температура в странах:\n",
      "Russia - 3.7 C\n",
      "Результат:\n",
      "Средняя температура в странах:\n",
      "Poland - 12.0 C\n"
     ]
    }
   ],
   "source": [
    "for i in countries_temperature: \n",
    "    print('Результат:')\n",
    "    \n",
    "    print('Средняя температура в странах:')\n",
    "    \n",
    "    print(i[0], '-', round((sum(i[1]) / len(i[1]) - 32) / 1.8, 1), 'C')   \n",
    "\n",
    "# не получилось вывести \"Результат: Средняя температура в странах:\" только в начале, а не перед каждой страной"
   ]
  },
  {
   "cell_type": "code",
   "execution_count": null,
   "id": "61f09eb0",
   "metadata": {},
   "outputs": [],
   "source": []
  }
 ],
 "metadata": {
  "kernelspec": {
   "display_name": "Python 3",
   "language": "python",
   "name": "python3"
  },
  "language_info": {
   "codemirror_mode": {
    "name": "ipython",
    "version": 3
   },
   "file_extension": ".py",
   "mimetype": "text/x-python",
   "name": "python",
   "nbconvert_exporter": "python",
   "pygments_lexer": "ipython3",
   "version": "3.8.5"
  }
 },
 "nbformat": 4,
 "nbformat_minor": 5
}
